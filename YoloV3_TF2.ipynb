{
  "nbformat": 4,
  "nbformat_minor": 0,
  "metadata": {
    "colab": {
      "name": "YoloV3 TF2.ipynb",
      "provenance": [],
      "collapsed_sections": []
    },
    "kernelspec": {
      "name": "python3",
      "display_name": "Python 3"
    },
    "accelerator": "GPU"
  },
  "cells": [
    {
      "cell_type": "markdown",
      "metadata": {
        "id": "51bQlVgjmnWf"
      },
      "source": [
        "# YoloV3 TF2 GPU Colab Notebook\n",
        "\n",
        "##### Clone and install dependencies "
      ]
    },
    {
      "cell_type": "code",
      "metadata": {
        "id": "cpn-5i4VHbht",
        "colab": {
          "base_uri": "https://localhost:8080/"
        },
        "outputId": "e1301dc9-b55c-4d17-cbea-1fd1ec7632cc"
      },
      "source": [
        "!git clone https://github.com/zzh8829/yolov3-tf2\n",
        "%cd yolov3-tf2/\n",
        "!pip install -r requirements-gpu.txt"
      ],
      "execution_count": null,
      "outputs": [
        {
          "output_type": "stream",
          "text": [
            "Cloning into 'yolov3-tf2'...\n",
            "remote: Enumerating objects: 413, done.\u001b[K\n",
            "remote: Counting objects: 100% (3/3), done.\u001b[K\n",
            "remote: Compressing objects: 100% (3/3), done.\u001b[K\n",
            "remote: Total 413 (delta 0), reused 0 (delta 0), pack-reused 410\u001b[K\n",
            "Receiving objects: 100% (413/413), 4.23 MiB | 40.90 MiB/s, done.\n",
            "Resolving deltas: 100% (236/236), done.\n",
            "/content/yolov3-tf2\n",
            "Obtaining file:///content/yolov3-tf2 (from -r requirements-gpu.txt (line 6))\n",
            "Collecting tensorflow-gpu==2.4.0\n",
            "\u001b[?25l  Downloading https://files.pythonhosted.org/packages/e8/3e/bf817be24fe71c430775da74e839150d386de236dc35c26da15d7c9a57a3/tensorflow_gpu-2.4.0-cp37-cp37m-manylinux2010_x86_64.whl (394.7MB)\n",
            "\u001b[K     |████████████████████████████████| 394.7MB 44kB/s \n",
            "\u001b[?25hCollecting opencv-python==4.1.1.26\n",
            "\u001b[?25l  Downloading https://files.pythonhosted.org/packages/44/35/6db0fa2e644922533ddc2a3c41d1a86dabefce89d9db85ec31dcc69dc2e3/opencv_python-4.1.1.26-cp37-cp37m-manylinux1_x86_64.whl (28.7MB)\n",
            "\u001b[K     |████████████████████████████████| 28.7MB 113kB/s \n",
            "\u001b[?25hRequirement already satisfied: lxml in /usr/local/lib/python3.7/dist-packages (from -r requirements-gpu.txt (line 3)) (4.2.6)\n",
            "Requirement already satisfied: tqdm in /usr/local/lib/python3.7/dist-packages (from -r requirements-gpu.txt (line 4)) (4.41.1)\n",
            "Requirement already satisfied: protobuf>=3.9.2 in /usr/local/lib/python3.7/dist-packages (from tensorflow-gpu==2.4.0->-r requirements-gpu.txt (line 1)) (3.12.4)\n",
            "Requirement already satisfied: six~=1.15.0 in /usr/local/lib/python3.7/dist-packages (from tensorflow-gpu==2.4.0->-r requirements-gpu.txt (line 1)) (1.15.0)\n",
            "Requirement already satisfied: tensorflow-estimator<2.5.0,>=2.4.0rc0 in /usr/local/lib/python3.7/dist-packages (from tensorflow-gpu==2.4.0->-r requirements-gpu.txt (line 1)) (2.4.0)\n",
            "Requirement already satisfied: keras-preprocessing~=1.1.2 in /usr/local/lib/python3.7/dist-packages (from tensorflow-gpu==2.4.0->-r requirements-gpu.txt (line 1)) (1.1.2)\n",
            "Requirement already satisfied: wrapt~=1.12.1 in /usr/local/lib/python3.7/dist-packages (from tensorflow-gpu==2.4.0->-r requirements-gpu.txt (line 1)) (1.12.1)\n",
            "Requirement already satisfied: tensorboard~=2.4 in /usr/local/lib/python3.7/dist-packages (from tensorflow-gpu==2.4.0->-r requirements-gpu.txt (line 1)) (2.4.1)\n",
            "Requirement already satisfied: astunparse~=1.6.3 in /usr/local/lib/python3.7/dist-packages (from tensorflow-gpu==2.4.0->-r requirements-gpu.txt (line 1)) (1.6.3)\n",
            "Requirement already satisfied: h5py~=2.10.0 in /usr/local/lib/python3.7/dist-packages (from tensorflow-gpu==2.4.0->-r requirements-gpu.txt (line 1)) (2.10.0)\n",
            "Requirement already satisfied: numpy~=1.19.2 in /usr/local/lib/python3.7/dist-packages (from tensorflow-gpu==2.4.0->-r requirements-gpu.txt (line 1)) (1.19.5)\n",
            "Requirement already satisfied: opt-einsum~=3.3.0 in /usr/local/lib/python3.7/dist-packages (from tensorflow-gpu==2.4.0->-r requirements-gpu.txt (line 1)) (3.3.0)\n",
            "Requirement already satisfied: termcolor~=1.1.0 in /usr/local/lib/python3.7/dist-packages (from tensorflow-gpu==2.4.0->-r requirements-gpu.txt (line 1)) (1.1.0)\n",
            "Requirement already satisfied: wheel~=0.35 in /usr/local/lib/python3.7/dist-packages (from tensorflow-gpu==2.4.0->-r requirements-gpu.txt (line 1)) (0.36.2)\n",
            "Requirement already satisfied: gast==0.3.3 in /usr/local/lib/python3.7/dist-packages (from tensorflow-gpu==2.4.0->-r requirements-gpu.txt (line 1)) (0.3.3)\n",
            "Requirement already satisfied: flatbuffers~=1.12.0 in /usr/local/lib/python3.7/dist-packages (from tensorflow-gpu==2.4.0->-r requirements-gpu.txt (line 1)) (1.12)\n",
            "Requirement already satisfied: google-pasta~=0.2 in /usr/local/lib/python3.7/dist-packages (from tensorflow-gpu==2.4.0->-r requirements-gpu.txt (line 1)) (0.2.0)\n",
            "Requirement already satisfied: absl-py~=0.10 in /usr/local/lib/python3.7/dist-packages (from tensorflow-gpu==2.4.0->-r requirements-gpu.txt (line 1)) (0.12.0)\n",
            "Requirement already satisfied: grpcio~=1.32.0 in /usr/local/lib/python3.7/dist-packages (from tensorflow-gpu==2.4.0->-r requirements-gpu.txt (line 1)) (1.32.0)\n",
            "Requirement already satisfied: typing-extensions~=3.7.4 in /usr/local/lib/python3.7/dist-packages (from tensorflow-gpu==2.4.0->-r requirements-gpu.txt (line 1)) (3.7.4.3)\n",
            "Requirement already satisfied: setuptools in /usr/local/lib/python3.7/dist-packages (from protobuf>=3.9.2->tensorflow-gpu==2.4.0->-r requirements-gpu.txt (line 1)) (56.1.0)\n",
            "Requirement already satisfied: requests<3,>=2.21.0 in /usr/local/lib/python3.7/dist-packages (from tensorboard~=2.4->tensorflow-gpu==2.4.0->-r requirements-gpu.txt (line 1)) (2.23.0)\n",
            "Requirement already satisfied: tensorboard-plugin-wit>=1.6.0 in /usr/local/lib/python3.7/dist-packages (from tensorboard~=2.4->tensorflow-gpu==2.4.0->-r requirements-gpu.txt (line 1)) (1.8.0)\n",
            "Requirement already satisfied: google-auth-oauthlib<0.5,>=0.4.1 in /usr/local/lib/python3.7/dist-packages (from tensorboard~=2.4->tensorflow-gpu==2.4.0->-r requirements-gpu.txt (line 1)) (0.4.4)\n",
            "Requirement already satisfied: google-auth<2,>=1.6.3 in /usr/local/lib/python3.7/dist-packages (from tensorboard~=2.4->tensorflow-gpu==2.4.0->-r requirements-gpu.txt (line 1)) (1.30.0)\n",
            "Requirement already satisfied: markdown>=2.6.8 in /usr/local/lib/python3.7/dist-packages (from tensorboard~=2.4->tensorflow-gpu==2.4.0->-r requirements-gpu.txt (line 1)) (3.3.4)\n",
            "Requirement already satisfied: werkzeug>=0.11.15 in /usr/local/lib/python3.7/dist-packages (from tensorboard~=2.4->tensorflow-gpu==2.4.0->-r requirements-gpu.txt (line 1)) (2.0.0)\n",
            "Requirement already satisfied: urllib3!=1.25.0,!=1.25.1,<1.26,>=1.21.1 in /usr/local/lib/python3.7/dist-packages (from requests<3,>=2.21.0->tensorboard~=2.4->tensorflow-gpu==2.4.0->-r requirements-gpu.txt (line 1)) (1.24.3)\n",
            "Requirement already satisfied: certifi>=2017.4.17 in /usr/local/lib/python3.7/dist-packages (from requests<3,>=2.21.0->tensorboard~=2.4->tensorflow-gpu==2.4.0->-r requirements-gpu.txt (line 1)) (2020.12.5)\n",
            "Requirement already satisfied: idna<3,>=2.5 in /usr/local/lib/python3.7/dist-packages (from requests<3,>=2.21.0->tensorboard~=2.4->tensorflow-gpu==2.4.0->-r requirements-gpu.txt (line 1)) (2.10)\n",
            "Requirement already satisfied: chardet<4,>=3.0.2 in /usr/local/lib/python3.7/dist-packages (from requests<3,>=2.21.0->tensorboard~=2.4->tensorflow-gpu==2.4.0->-r requirements-gpu.txt (line 1)) (3.0.4)\n",
            "Requirement already satisfied: requests-oauthlib>=0.7.0 in /usr/local/lib/python3.7/dist-packages (from google-auth-oauthlib<0.5,>=0.4.1->tensorboard~=2.4->tensorflow-gpu==2.4.0->-r requirements-gpu.txt (line 1)) (1.3.0)\n",
            "Requirement already satisfied: rsa<5,>=3.1.4; python_version >= \"3.6\" in /usr/local/lib/python3.7/dist-packages (from google-auth<2,>=1.6.3->tensorboard~=2.4->tensorflow-gpu==2.4.0->-r requirements-gpu.txt (line 1)) (4.7.2)\n",
            "Requirement already satisfied: pyasn1-modules>=0.2.1 in /usr/local/lib/python3.7/dist-packages (from google-auth<2,>=1.6.3->tensorboard~=2.4->tensorflow-gpu==2.4.0->-r requirements-gpu.txt (line 1)) (0.2.8)\n",
            "Requirement already satisfied: cachetools<5.0,>=2.0.0 in /usr/local/lib/python3.7/dist-packages (from google-auth<2,>=1.6.3->tensorboard~=2.4->tensorflow-gpu==2.4.0->-r requirements-gpu.txt (line 1)) (4.2.2)\n",
            "Requirement already satisfied: importlib-metadata; python_version < \"3.8\" in /usr/local/lib/python3.7/dist-packages (from markdown>=2.6.8->tensorboard~=2.4->tensorflow-gpu==2.4.0->-r requirements-gpu.txt (line 1)) (4.0.1)\n",
            "Requirement already satisfied: oauthlib>=3.0.0 in /usr/local/lib/python3.7/dist-packages (from requests-oauthlib>=0.7.0->google-auth-oauthlib<0.5,>=0.4.1->tensorboard~=2.4->tensorflow-gpu==2.4.0->-r requirements-gpu.txt (line 1)) (3.1.0)\n",
            "Requirement already satisfied: pyasn1>=0.1.3 in /usr/local/lib/python3.7/dist-packages (from rsa<5,>=3.1.4; python_version >= \"3.6\"->google-auth<2,>=1.6.3->tensorboard~=2.4->tensorflow-gpu==2.4.0->-r requirements-gpu.txt (line 1)) (0.4.8)\n",
            "Requirement already satisfied: zipp>=0.5 in /usr/local/lib/python3.7/dist-packages (from importlib-metadata; python_version < \"3.8\"->markdown>=2.6.8->tensorboard~=2.4->tensorflow-gpu==2.4.0->-r requirements-gpu.txt (line 1)) (3.4.1)\n",
            "\u001b[31mERROR: albumentations 0.1.12 has requirement imgaug<0.2.7,>=0.2.5, but you'll have imgaug 0.2.9 which is incompatible.\u001b[0m\n",
            "Installing collected packages: tensorflow-gpu, opencv-python, yolov3-tf2\n",
            "  Found existing installation: opencv-python 4.1.2.30\n",
            "    Uninstalling opencv-python-4.1.2.30:\n",
            "      Successfully uninstalled opencv-python-4.1.2.30\n",
            "  Running setup.py develop for yolov3-tf2\n",
            "Successfully installed opencv-python-4.1.1.26 tensorflow-gpu-2.4.0 yolov3-tf2\n"
          ],
          "name": "stdout"
        }
      ]
    },
    {
      "cell_type": "markdown",
      "metadata": {
        "id": "EIUMAdGXm46J"
      },
      "source": [
        "##### Check Tensorflow2 version"
      ]
    },
    {
      "cell_type": "code",
      "metadata": {
        "id": "oyrsdB9THu-8",
        "colab": {
          "base_uri": "https://localhost:8080/",
          "height": 130
        },
        "outputId": "81de4d74-13bf-47c6-d533-676e21e5c63d"
      },
      "source": [
        "!ls\n",
        "\n",
        "import tensorflow as tf\n",
        "tf.__version__"
      ],
      "execution_count": null,
      "outputs": [
        {
          "output_type": "stream",
          "text": [
            "checkpoints\t data\t\t  README.md\t\ttrain.py\n",
            "colab_gpu.ipynb  detect.py\t  requirements-gpu.txt\tyolov3_tf2\n",
            "conda-cpu.yml\t detect_video.py  requirements.txt\tyolov3_tf2.egg-info\n",
            "conda-gpu.yml\t docs\t\t  setup.py\n",
            "convert.py\t LICENSE\t  tools\n"
          ],
          "name": "stdout"
        },
        {
          "output_type": "execute_result",
          "data": {
            "application/vnd.google.colaboratory.intrinsic+json": {
              "type": "string"
            },
            "text/plain": [
              "'2.4.0'"
            ]
          },
          "metadata": {
            "tags": []
          },
          "execution_count": 2
        }
      ]
    },
    {
      "cell_type": "markdown",
      "metadata": {
        "id": "S5-2BMdHW80o"
      },
      "source": [
        "get from your gdrive and convert"
      ]
    },
    {
      "cell_type": "code",
      "metadata": {
        "id": "nmse7n04W599",
        "colab": {
          "base_uri": "https://localhost:8080/"
        },
        "outputId": "ba4ace00-f7ed-4c32-801a-6077a7723cb0"
      },
      "source": [
        "from google.colab import drive\n",
        "drive.mount('/content/gdrive')"
      ],
      "execution_count": null,
      "outputs": [
        {
          "output_type": "stream",
          "text": [
            "Mounted at /content/gdrive\n"
          ],
          "name": "stdout"
        }
      ]
    },
    {
      "cell_type": "code",
      "metadata": {
        "id": "dLhhzfnvXTQj"
      },
      "source": [
        "!ln -s /content/gdrive/My\\ Drive/ /mydrive"
      ],
      "execution_count": null,
      "outputs": []
    },
    {
      "cell_type": "code",
      "metadata": {
        "id": "KZPoLOMobBjE",
        "colab": {
          "base_uri": "https://localhost:8080/"
        },
        "outputId": "f45ac5e1-e958-43c9-a0c9-2bc6c84db46f"
      },
      "source": [
        "!ls /mydrive/training/backup"
      ],
      "execution_count": null,
      "outputs": [
        {
          "output_type": "stream",
          "text": [
            "yolov3_final.weights  yolov3_last.weights\n"
          ],
          "name": "stdout"
        }
      ]
    },
    {
      "cell_type": "code",
      "metadata": {
        "id": "p5aQrWGAXqVS"
      },
      "source": [
        "# Ubah jadi dataset kalian\n",
        "!cp /mydrive/training/backup/yolov3_last.weights ./data/yolov3.weights\n",
        "!cp /mydrive/training/obj.names ./data/coco.names"
      ],
      "execution_count": null,
      "outputs": []
    },
    {
      "cell_type": "code",
      "metadata": {
        "id": "Bi2Akn6IYVP1"
      },
      "source": [
        ""
      ],
      "execution_count": null,
      "outputs": []
    },
    {
      "cell_type": "markdown",
      "metadata": {
        "id": "61uveYeapAwx"
      },
      "source": [
        "before run this syntax, edit 'num_class' as total classes of training data"
      ]
    },
    {
      "cell_type": "code",
      "metadata": {
        "colab": {
          "base_uri": "https://localhost:8080/"
        },
        "id": "iUlRuusvZ42I",
        "outputId": "c55d7e31-2e65-4517-dde7-4492f19bf502"
      },
      "source": [
        "!python convert.py"
      ],
      "execution_count": null,
      "outputs": [
        {
          "output_type": "stream",
          "text": [
            "2021-05-23 08:50:43.907585: I tensorflow/stream_executor/platform/default/dso_loader.cc:49] Successfully opened dynamic library libcudart.so.11.0\n",
            "2021-05-23 08:50:45.430444: I tensorflow/compiler/jit/xla_cpu_device.cc:41] Not creating XLA devices, tf_xla_enable_xla_devices not set\n",
            "2021-05-23 08:50:45.431296: I tensorflow/stream_executor/platform/default/dso_loader.cc:49] Successfully opened dynamic library libcuda.so.1\n",
            "2021-05-23 08:50:45.486181: I tensorflow/stream_executor/cuda/cuda_gpu_executor.cc:941] successful NUMA node read from SysFS had negative value (-1), but there must be at least one NUMA node, so returning NUMA node zero\n",
            "2021-05-23 08:50:45.486783: I tensorflow/core/common_runtime/gpu/gpu_device.cc:1720] Found device 0 with properties: \n",
            "pciBusID: 0000:00:04.0 name: Tesla T4 computeCapability: 7.5\n",
            "coreClock: 1.59GHz coreCount: 40 deviceMemorySize: 14.75GiB deviceMemoryBandwidth: 298.08GiB/s\n",
            "2021-05-23 08:50:45.486828: I tensorflow/stream_executor/platform/default/dso_loader.cc:49] Successfully opened dynamic library libcudart.so.11.0\n",
            "2021-05-23 08:50:45.625080: I tensorflow/stream_executor/platform/default/dso_loader.cc:49] Successfully opened dynamic library libcublas.so.11\n",
            "2021-05-23 08:50:45.625202: I tensorflow/stream_executor/platform/default/dso_loader.cc:49] Successfully opened dynamic library libcublasLt.so.11\n",
            "2021-05-23 08:50:45.750610: I tensorflow/stream_executor/platform/default/dso_loader.cc:49] Successfully opened dynamic library libcufft.so.10\n",
            "2021-05-23 08:50:45.798343: I tensorflow/stream_executor/platform/default/dso_loader.cc:49] Successfully opened dynamic library libcurand.so.10\n",
            "2021-05-23 08:50:46.084135: I tensorflow/stream_executor/platform/default/dso_loader.cc:49] Successfully opened dynamic library libcusolver.so.10\n",
            "2021-05-23 08:50:46.113069: I tensorflow/stream_executor/platform/default/dso_loader.cc:49] Successfully opened dynamic library libcusparse.so.11\n",
            "2021-05-23 08:50:46.116729: I tensorflow/stream_executor/platform/default/dso_loader.cc:49] Successfully opened dynamic library libcudnn.so.8\n",
            "2021-05-23 08:50:46.116885: I tensorflow/stream_executor/cuda/cuda_gpu_executor.cc:941] successful NUMA node read from SysFS had negative value (-1), but there must be at least one NUMA node, so returning NUMA node zero\n",
            "2021-05-23 08:50:46.117525: I tensorflow/stream_executor/cuda/cuda_gpu_executor.cc:941] successful NUMA node read from SysFS had negative value (-1), but there must be at least one NUMA node, so returning NUMA node zero\n",
            "2021-05-23 08:50:46.118063: I tensorflow/core/common_runtime/gpu/gpu_device.cc:1862] Adding visible gpu devices: 0\n",
            "2021-05-23 08:50:46.128231: I tensorflow/compiler/jit/xla_gpu_device.cc:99] Not creating XLA devices, tf_xla_enable_xla_devices not set\n",
            "2021-05-23 08:50:46.128368: I tensorflow/stream_executor/cuda/cuda_gpu_executor.cc:941] successful NUMA node read from SysFS had negative value (-1), but there must be at least one NUMA node, so returning NUMA node zero\n",
            "2021-05-23 08:50:46.128926: I tensorflow/core/common_runtime/gpu/gpu_device.cc:1720] Found device 0 with properties: \n",
            "pciBusID: 0000:00:04.0 name: Tesla T4 computeCapability: 7.5\n",
            "coreClock: 1.59GHz coreCount: 40 deviceMemorySize: 14.75GiB deviceMemoryBandwidth: 298.08GiB/s\n",
            "2021-05-23 08:50:46.128963: I tensorflow/stream_executor/platform/default/dso_loader.cc:49] Successfully opened dynamic library libcudart.so.11.0\n",
            "2021-05-23 08:50:46.129014: I tensorflow/stream_executor/platform/default/dso_loader.cc:49] Successfully opened dynamic library libcublas.so.11\n",
            "2021-05-23 08:50:46.129034: I tensorflow/stream_executor/platform/default/dso_loader.cc:49] Successfully opened dynamic library libcublasLt.so.11\n",
            "2021-05-23 08:50:46.129054: I tensorflow/stream_executor/platform/default/dso_loader.cc:49] Successfully opened dynamic library libcufft.so.10\n",
            "2021-05-23 08:50:46.129076: I tensorflow/stream_executor/platform/default/dso_loader.cc:49] Successfully opened dynamic library libcurand.so.10\n",
            "2021-05-23 08:50:46.129095: I tensorflow/stream_executor/platform/default/dso_loader.cc:49] Successfully opened dynamic library libcusolver.so.10\n",
            "2021-05-23 08:50:46.129112: I tensorflow/stream_executor/platform/default/dso_loader.cc:49] Successfully opened dynamic library libcusparse.so.11\n",
            "2021-05-23 08:50:46.129130: I tensorflow/stream_executor/platform/default/dso_loader.cc:49] Successfully opened dynamic library libcudnn.so.8\n",
            "2021-05-23 08:50:46.129198: I tensorflow/stream_executor/cuda/cuda_gpu_executor.cc:941] successful NUMA node read from SysFS had negative value (-1), but there must be at least one NUMA node, so returning NUMA node zero\n",
            "2021-05-23 08:50:46.130469: I tensorflow/stream_executor/cuda/cuda_gpu_executor.cc:941] successful NUMA node read from SysFS had negative value (-1), but there must be at least one NUMA node, so returning NUMA node zero\n",
            "2021-05-23 08:50:46.131044: I tensorflow/core/common_runtime/gpu/gpu_device.cc:1862] Adding visible gpu devices: 0\n",
            "2021-05-23 08:50:46.131093: I tensorflow/stream_executor/platform/default/dso_loader.cc:49] Successfully opened dynamic library libcudart.so.11.0\n",
            "2021-05-23 08:50:46.835881: I tensorflow/core/common_runtime/gpu/gpu_device.cc:1261] Device interconnect StreamExecutor with strength 1 edge matrix:\n",
            "2021-05-23 08:50:46.835934: I tensorflow/core/common_runtime/gpu/gpu_device.cc:1267]      0 \n",
            "2021-05-23 08:50:46.835954: I tensorflow/core/common_runtime/gpu/gpu_device.cc:1280] 0:   N \n",
            "2021-05-23 08:50:46.836144: I tensorflow/stream_executor/cuda/cuda_gpu_executor.cc:941] successful NUMA node read from SysFS had negative value (-1), but there must be at least one NUMA node, so returning NUMA node zero\n",
            "2021-05-23 08:50:46.837008: I tensorflow/stream_executor/cuda/cuda_gpu_executor.cc:941] successful NUMA node read from SysFS had negative value (-1), but there must be at least one NUMA node, so returning NUMA node zero\n",
            "2021-05-23 08:50:46.837587: I tensorflow/stream_executor/cuda/cuda_gpu_executor.cc:941] successful NUMA node read from SysFS had negative value (-1), but there must be at least one NUMA node, so returning NUMA node zero\n",
            "2021-05-23 08:50:46.838259: I tensorflow/core/common_runtime/gpu/gpu_device.cc:1406] Created TensorFlow device (/job:localhost/replica:0/task:0/device:GPU:0 with 13968 MB memory) -> physical GPU (device: 0, name: Tesla T4, pci bus id: 0000:00:04.0, compute capability: 7.5)\n",
            "Model: \"yolov3\"\n",
            "__________________________________________________________________________________________________\n",
            "Layer (type)                    Output Shape         Param #     Connected to                     \n",
            "==================================================================================================\n",
            "input (InputLayer)              [(None, None, None,  0                                            \n",
            "__________________________________________________________________________________________________\n",
            "yolo_darknet (Functional)       ((None, None, None,  40620640    input[0][0]                      \n",
            "__________________________________________________________________________________________________\n",
            "yolo_conv_0 (Functional)        (None, None, None, 5 11024384    yolo_darknet[0][2]               \n",
            "__________________________________________________________________________________________________\n",
            "yolo_conv_1 (Functional)        (None, None, None, 2 2957312     yolo_conv_0[0][0]                \n",
            "                                                                 yolo_darknet[0][1]               \n",
            "__________________________________________________________________________________________________\n",
            "yolo_conv_2 (Functional)        (None, None, None, 1 741376      yolo_conv_1[0][0]                \n",
            "                                                                 yolo_darknet[0][0]               \n",
            "__________________________________________________________________________________________________\n",
            "yolo_output_0 (Functional)      (None, None, None, 3 4759588     yolo_conv_0[0][0]                \n",
            "__________________________________________________________________________________________________\n",
            "yolo_output_1 (Functional)      (None, None, None, 3 1200164     yolo_conv_1[0][0]                \n",
            "__________________________________________________________________________________________________\n",
            "yolo_output_2 (Functional)      (None, None, None, 3 305188      yolo_conv_2[0][0]                \n",
            "__________________________________________________________________________________________________\n",
            "yolo_boxes_0 (Lambda)           ((None, None, None,  0           yolo_output_0[0][0]              \n",
            "__________________________________________________________________________________________________\n",
            "yolo_boxes_1 (Lambda)           ((None, None, None,  0           yolo_output_1[0][0]              \n",
            "__________________________________________________________________________________________________\n",
            "yolo_boxes_2 (Lambda)           ((None, None, None,  0           yolo_output_2[0][0]              \n",
            "__________________________________________________________________________________________________\n",
            "yolo_nms (Lambda)               ((1, None, 4), (1, N 0           yolo_boxes_0[0][0]               \n",
            "                                                                 yolo_boxes_0[0][1]               \n",
            "                                                                 yolo_boxes_0[0][2]               \n",
            "                                                                 yolo_boxes_1[0][0]               \n",
            "                                                                 yolo_boxes_1[0][1]               \n",
            "                                                                 yolo_boxes_1[0][2]               \n",
            "                                                                 yolo_boxes_2[0][0]               \n",
            "                                                                 yolo_boxes_2[0][1]               \n",
            "                                                                 yolo_boxes_2[0][2]               \n",
            "==================================================================================================\n",
            "Total params: 61,608,652\n",
            "Trainable params: 61,556,044\n",
            "Non-trainable params: 52,608\n",
            "__________________________________________________________________________________________________\n",
            "I0523 08:50:48.592622 140633275103104 convert.py:24] model created\n",
            "I0523 08:50:48.593470 140633275103104 utils.py:45] yolo_darknet/conv2d bn\n",
            "I0523 08:50:48.595641 140633275103104 utils.py:45] yolo_darknet/conv2d_1 bn\n",
            "I0523 08:50:48.597832 140633275103104 utils.py:45] yolo_darknet/conv2d_2 bn\n",
            "I0523 08:50:48.599822 140633275103104 utils.py:45] yolo_darknet/conv2d_3 bn\n",
            "I0523 08:50:48.601847 140633275103104 utils.py:45] yolo_darknet/conv2d_4 bn\n",
            "I0523 08:50:48.607390 140633275103104 utils.py:45] yolo_darknet/conv2d_5 bn\n",
            "I0523 08:50:48.609388 140633275103104 utils.py:45] yolo_darknet/conv2d_6 bn\n",
            "I0523 08:50:48.612465 140633275103104 utils.py:45] yolo_darknet/conv2d_7 bn\n",
            "I0523 08:50:48.617025 140633275103104 utils.py:45] yolo_darknet/conv2d_8 bn\n",
            "I0523 08:50:48.619536 140633275103104 utils.py:45] yolo_darknet/conv2d_9 bn\n",
            "I0523 08:50:48.623950 140633275103104 utils.py:45] yolo_darknet/conv2d_10 bn\n",
            "I0523 08:50:48.626100 140633275103104 utils.py:45] yolo_darknet/conv2d_11 bn\n",
            "I0523 08:50:48.629350 140633275103104 utils.py:45] yolo_darknet/conv2d_12 bn\n",
            "I0523 08:50:48.631429 140633275103104 utils.py:45] yolo_darknet/conv2d_13 bn\n",
            "I0523 08:50:48.634630 140633275103104 utils.py:45] yolo_darknet/conv2d_14 bn\n",
            "I0523 08:50:48.636682 140633275103104 utils.py:45] yolo_darknet/conv2d_15 bn\n",
            "I0523 08:50:48.639914 140633275103104 utils.py:45] yolo_darknet/conv2d_16 bn\n",
            "I0523 08:50:48.642703 140633275103104 utils.py:45] yolo_darknet/conv2d_17 bn\n",
            "I0523 08:50:48.645963 140633275103104 utils.py:45] yolo_darknet/conv2d_18 bn\n",
            "I0523 08:50:48.648025 140633275103104 utils.py:45] yolo_darknet/conv2d_19 bn\n",
            "I0523 08:50:48.651289 140633275103104 utils.py:45] yolo_darknet/conv2d_20 bn\n",
            "I0523 08:50:48.653354 140633275103104 utils.py:45] yolo_darknet/conv2d_21 bn\n",
            "I0523 08:50:48.656604 140633275103104 utils.py:45] yolo_darknet/conv2d_22 bn\n",
            "I0523 08:50:48.658682 140633275103104 utils.py:45] yolo_darknet/conv2d_23 bn\n",
            "I0523 08:50:48.662012 140633275103104 utils.py:45] yolo_darknet/conv2d_24 bn\n",
            "I0523 08:50:48.664066 140633275103104 utils.py:45] yolo_darknet/conv2d_25 bn\n",
            "I0523 08:50:48.667295 140633275103104 utils.py:45] yolo_darknet/conv2d_26 bn\n",
            "I0523 08:50:48.676403 140633275103104 utils.py:45] yolo_darknet/conv2d_27 bn\n",
            "I0523 08:50:48.679080 140633275103104 utils.py:45] yolo_darknet/conv2d_28 bn\n",
            "I0523 08:50:48.686056 140633275103104 utils.py:45] yolo_darknet/conv2d_29 bn\n",
            "I0523 08:50:48.688550 140633275103104 utils.py:45] yolo_darknet/conv2d_30 bn\n",
            "I0523 08:50:48.695324 140633275103104 utils.py:45] yolo_darknet/conv2d_31 bn\n",
            "I0523 08:50:48.697873 140633275103104 utils.py:45] yolo_darknet/conv2d_32 bn\n",
            "I0523 08:50:48.704689 140633275103104 utils.py:45] yolo_darknet/conv2d_33 bn\n",
            "I0523 08:50:48.707249 140633275103104 utils.py:45] yolo_darknet/conv2d_34 bn\n",
            "I0523 08:50:48.714024 140633275103104 utils.py:45] yolo_darknet/conv2d_35 bn\n",
            "I0523 08:50:48.716558 140633275103104 utils.py:45] yolo_darknet/conv2d_36 bn\n",
            "I0523 08:50:48.723447 140633275103104 utils.py:45] yolo_darknet/conv2d_37 bn\n",
            "I0523 08:50:48.726075 140633275103104 utils.py:45] yolo_darknet/conv2d_38 bn\n",
            "I0523 08:50:48.732918 140633275103104 utils.py:45] yolo_darknet/conv2d_39 bn\n",
            "I0523 08:50:48.735662 140633275103104 utils.py:45] yolo_darknet/conv2d_40 bn\n",
            "I0523 08:50:48.742956 140633275103104 utils.py:45] yolo_darknet/conv2d_41 bn\n",
            "I0523 08:50:48.745498 140633275103104 utils.py:45] yolo_darknet/conv2d_42 bn\n",
            "I0523 08:50:48.752502 140633275103104 utils.py:45] yolo_darknet/conv2d_43 bn\n",
            "I0523 08:50:48.785940 140633275103104 utils.py:45] yolo_darknet/conv2d_44 bn\n",
            "I0523 08:50:48.792006 140633275103104 utils.py:45] yolo_darknet/conv2d_45 bn\n",
            "I0523 08:50:48.821553 140633275103104 utils.py:45] yolo_darknet/conv2d_46 bn\n",
            "I0523 08:50:48.827284 140633275103104 utils.py:45] yolo_darknet/conv2d_47 bn\n",
            "I0523 08:50:48.857678 140633275103104 utils.py:45] yolo_darknet/conv2d_48 bn\n",
            "I0523 08:50:48.863379 140633275103104 utils.py:45] yolo_darknet/conv2d_49 bn\n",
            "I0523 08:50:48.890885 140633275103104 utils.py:45] yolo_darknet/conv2d_50 bn\n",
            "I0523 08:50:48.896603 140633275103104 utils.py:45] yolo_darknet/conv2d_51 bn\n",
            "I0523 08:50:48.923595 140633275103104 utils.py:45] yolo_conv_0/conv2d_52 bn\n",
            "I0523 08:50:48.929123 140633275103104 utils.py:45] yolo_conv_0/conv2d_53 bn\n",
            "I0523 08:50:48.956911 140633275103104 utils.py:45] yolo_conv_0/conv2d_54 bn\n",
            "I0523 08:50:48.962364 140633275103104 utils.py:45] yolo_conv_0/conv2d_55 bn\n",
            "I0523 08:50:48.989504 140633275103104 utils.py:45] yolo_conv_0/conv2d_56 bn\n",
            "I0523 08:50:48.995211 140633275103104 utils.py:45] yolo_output_0/conv2d_57 bn\n",
            "I0523 08:50:49.022948 140633275103104 utils.py:45] yolo_output_0/conv2d_58 bias\n",
            "I0523 08:50:49.024291 140633275103104 utils.py:45] yolo_conv_1/conv2d_59 bn\n",
            "I0523 08:50:49.026800 140633275103104 utils.py:45] yolo_conv_1/conv2d_60 bn\n",
            "I0523 08:50:49.029365 140633275103104 utils.py:45] yolo_conv_1/conv2d_61 bn\n",
            "I0523 08:50:49.036153 140633275103104 utils.py:45] yolo_conv_1/conv2d_62 bn\n",
            "I0523 08:50:49.038455 140633275103104 utils.py:45] yolo_conv_1/conv2d_63 bn\n",
            "I0523 08:50:49.045514 140633275103104 utils.py:45] yolo_conv_1/conv2d_64 bn\n",
            "I0523 08:50:49.049500 140633275103104 utils.py:45] yolo_output_1/conv2d_65 bn\n",
            "I0523 08:50:49.056342 140633275103104 utils.py:45] yolo_output_1/conv2d_66 bias\n",
            "I0523 08:50:49.057415 140633275103104 utils.py:45] yolo_conv_2/conv2d_67 bn\n",
            "I0523 08:50:49.059177 140633275103104 utils.py:45] yolo_conv_2/conv2d_68 bn\n",
            "I0523 08:50:49.061338 140633275103104 utils.py:45] yolo_conv_2/conv2d_69 bn\n",
            "I0523 08:50:49.064346 140633275103104 utils.py:45] yolo_conv_2/conv2d_70 bn\n",
            "I0523 08:50:49.066091 140633275103104 utils.py:45] yolo_conv_2/conv2d_71 bn\n",
            "I0523 08:50:49.069046 140633275103104 utils.py:45] yolo_conv_2/conv2d_72 bn\n",
            "I0523 08:50:49.070858 140633275103104 utils.py:45] yolo_output_2/conv2d_73 bn\n",
            "I0523 08:50:49.073964 140633275103104 utils.py:45] yolo_output_2/conv2d_74 bias\n",
            "I0523 08:50:49.074858 140633275103104 convert.py:27] weights loaded\n",
            "2021-05-23 08:50:49.080053: I tensorflow/stream_executor/platform/default/dso_loader.cc:49] Successfully opened dynamic library libcudnn.so.8\n",
            "2021-05-23 08:51:18.118112: I tensorflow/stream_executor/platform/default/dso_loader.cc:49] Successfully opened dynamic library libcublas.so.11\n",
            "2021-05-23 08:51:20.607471: I tensorflow/stream_executor/platform/default/dso_loader.cc:49] Successfully opened dynamic library libcublasLt.so.11\n",
            "I0523 08:51:21.374287 140633275103104 convert.py:31] sanity check passed\n",
            "I0523 08:51:22.167255 140633275103104 convert.py:34] weights saved\n"
          ],
          "name": "stdout"
        }
      ]
    },
    {
      "cell_type": "markdown",
      "metadata": {
        "id": "ySGg4Ols02rX"
      },
      "source": [
        "##### Initialize Detector"
      ]
    },
    {
      "cell_type": "code",
      "metadata": {
        "id": "tlgBiU4ZsZY5"
      },
      "source": [
        "import sys\n",
        "from absl import app, logging, flags\n",
        "from absl.flags import FLAGS\n",
        "import time\n",
        "import cv2\n",
        "import numpy as np\n",
        "import tensorflow as tf\n",
        "from yolov3_tf2.models import (\n",
        "    YoloV3, YoloV3Tiny\n",
        ")\n",
        "from yolov3_tf2.dataset import transform_images, load_tfrecord_dataset\n",
        "from yolov3_tf2.utils import draw_outputs\n",
        "\n",
        "flags.DEFINE_string('classes', './data/coco.names', 'path to classes file')\n",
        "flags.DEFINE_string('weights', './checkpoints/yolov3.tf',\n",
        "                    'path to weights file')\n",
        "flags.DEFINE_boolean('tiny', False, 'yolov3 or yolov3-tiny')\n",
        "flags.DEFINE_integer('size', 416, 'resize images to')\n",
        "flags.DEFINE_string('image', './data/girl.png', 'path to input image')\n",
        "flags.DEFINE_string('tfrecord', None, 'tfrecord instead of image')\n",
        "flags.DEFINE_string('output', './output.jpg', 'path to output image')\n",
        "# Ubah jadi jumlah kelas kalian\n",
        "flags.DEFINE_integer('num_classes', 7, 'number of classes in the model')\n",
        "\n",
        "app._run_init(['yolov3'], app.parse_flags_with_usage)\n",
        "\n",
        "physical_devices = tf.config.experimental.list_physical_devices('GPU')\n",
        "tf.config.experimental.set_memory_growth(physical_devices[0], True)"
      ],
      "execution_count": null,
      "outputs": []
    },
    {
      "cell_type": "markdown",
      "metadata": {
        "id": "laxApAGV07kw"
      },
      "source": [
        "##### Detect Image"
      ]
    },
    {
      "cell_type": "code",
      "metadata": {
        "id": "2iKC1pvBnkDk",
        "colab": {
          "base_uri": "https://localhost:8080/",
          "height": 565
        },
        "outputId": "9dd9e141-4d7a-4039-edd0-168115d07578"
      },
      "source": [
        "# Ini kalian ubah gais jadi gambar testing kalian\n",
        "FLAGS.image = 'data/coba30.jpg'\n",
        "\n",
        "if FLAGS.tiny:\n",
        "    yolo = YoloV3Tiny(classes=FLAGS.num_classes)\n",
        "else:\n",
        "    yolo = YoloV3(classes=FLAGS.num_classes)\n",
        "      \n",
        "yolo.load_weights(FLAGS.weights).expect_partial()\n",
        "logging.info('weights loaded')\n",
        "\n",
        "class_names = [c.strip() for c in open(FLAGS.classes).readlines()]\n",
        "logging.info('classes loaded')\n",
        "\n",
        "img_raw = tf.image.decode_image(\n",
        "    open(FLAGS.image, 'rb').read(), channels=3)\n",
        "\n",
        "img = tf.expand_dims(img_raw, 0)\n",
        "img = transform_images(img, FLAGS.size)\n",
        "\n",
        "t1 = time.time()\n",
        "boxes, scores, classes, nums = yolo(img)\n",
        "t2 = time.time()\n",
        "logging.info('time: {}'.format(t2 - t1))\n",
        "\n",
        "logging.info('detections:')\n",
        "\n",
        "nama_kelas = []\n",
        "\n",
        "for i in range(nums[0]):\n",
        "    nama_kelas.append(class_names[int(classes[0][i])])\n",
        "    \n",
        "    # logging.info('\\t{}, {}, {}'.format(class_names[int(classes[0][i])],\n",
        "    #                                     np.array(scores[0][i]),\n",
        "    #                                     np.array(boxes[0][i])))\n",
        "\n",
        "print(nama_kelas)\n",
        "\n",
        "img = cv2.cvtColor(img_raw.numpy(), cv2.COLOR_RGB2BGR)\n",
        "img = draw_outputs(img, (boxes, scores, classes, nums), class_names)\n",
        "\n",
        "from IPython.display import Image, display\n",
        "display(Image(data=bytes(cv2.imencode('.jpg', img)[1]), width=800))"
      ],
      "execution_count": null,
      "outputs": [
        {
          "output_type": "stream",
          "text": [
            "I0523 09:15:38.477013 140445230520192 <ipython-input-38-30d37e7953b3>:10] weights loaded\n",
            "I0523 09:15:38.478801 140445230520192 <ipython-input-38-30d37e7953b3>:13] classes loaded\n",
            "I0523 09:15:38.575083 140445230520192 <ipython-input-38-30d37e7953b3>:24] time: 0.08451151847839355\n",
            "I0523 09:15:38.576321 140445230520192 <ipython-input-38-30d37e7953b3>:26] detections:\n"
          ],
          "name": "stderr"
        },
        {
          "output_type": "stream",
          "text": [
            "['nasi putih', 'telur rebus']\n"
          ],
          "name": "stdout"
        },
        {
          "output_type": "display_data",
          "data": {
            "image/jpeg": "[encoded data removed]",
            "text/plain": [
              "<IPython.core.display.Image object>"
            ]
          },
          "metadata": {
            "tags": [],
            "image/jpeg": {
              "width": 800
            }
          }
        }
      ]
    }
  ]
}